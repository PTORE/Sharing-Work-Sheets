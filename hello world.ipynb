{
 "cells": [
  {
   "cell_type": "code",
   "execution_count": 2,
   "id": "0d4c6b3d",
   "metadata": {},
   "outputs": [
    {
     "name": "stdout",
     "output_type": "stream",
     "text": [
      "hello, Python!\n"
     ]
    }
   ],
   "source": [
    "print ('hello, Python!')"
   ]
  },
  {
   "cell_type": "code",
   "execution_count": 5,
   "id": "aea3638b",
   "metadata": {},
   "outputs": [
    {
     "name": "stdout",
     "output_type": "stream",
     "text": [
      "3.9.7 (default, Sep 16 2021, 16:59:28) [MSC v.1916 64 bit (AMD64)]\n"
     ]
    }
   ],
   "source": [
    "import sys\n",
    "print (sys.version)"
   ]
  },
  {
   "cell_type": "code",
   "execution_count": 8,
   "id": "602bfcdb",
   "metadata": {},
   "outputs": [
    {
     "name": "stdout",
     "output_type": "stream",
     "text": [
      "Passtorae\n"
     ]
    }
   ],
   "source": [
    "# print ('Hi') \n",
    "print ('Passtorae')\n",
    "# had to print my name "
   ]
  },
  {
   "cell_type": "code",
   "execution_count": 155,
   "id": "5f8ff5e6",
   "metadata": {},
   "outputs": [
    {
     "name": "stdout",
     "output_type": "stream",
     "text": [
      "hello python\n"
     ]
    }
   ],
   "source": [
    "print ('hello python')"
   ]
  },
  {
   "cell_type": "code",
   "execution_count": 156,
   "id": "9daf47bf",
   "metadata": {},
   "outputs": [
    {
     "name": "stdout",
     "output_type": "stream",
     "text": [
      "this will be printed\n",
      "this will cause an error\n",
      "this will not be printed\n"
     ]
    }
   ],
   "source": [
    "print ('this will be printed')\n",
    "print ('this will cause an error')\n",
    "print ('this will not be printed')"
   ]
  },
  {
   "cell_type": "code",
   "execution_count": 14,
   "id": "bec7420d",
   "metadata": {},
   "outputs": [
    {
     "data": {
      "text/plain": [
       "int"
      ]
     },
     "execution_count": 14,
     "metadata": {},
     "output_type": "execute_result"
    }
   ],
   "source": [
    "type (12)"
   ]
  },
  {
   "cell_type": "code",
   "execution_count": 15,
   "id": "83e8512e",
   "metadata": {},
   "outputs": [
    {
     "data": {
      "text/plain": [
       "str"
      ]
     },
     "execution_count": 15,
     "metadata": {},
     "output_type": "execute_result"
    }
   ],
   "source": [
    "type ('hello world')"
   ]
  },
  {
   "cell_type": "code",
   "execution_count": 16,
   "id": "4f91d9b0",
   "metadata": {},
   "outputs": [
    {
     "data": {
      "text/plain": [
       "float"
      ]
     },
     "execution_count": 16,
     "metadata": {},
     "output_type": "execute_result"
    }
   ],
   "source": [
    "type (3.24)"
   ]
  },
  {
   "cell_type": "code",
   "execution_count": 17,
   "id": "4715a4f2",
   "metadata": {},
   "outputs": [
    {
     "data": {
      "text/plain": [
       "float"
      ]
     },
     "execution_count": 17,
     "metadata": {},
     "output_type": "execute_result"
    }
   ],
   "source": [
    "type(1.0)"
   ]
  },
  {
   "cell_type": "code",
   "execution_count": 19,
   "id": "8487941b",
   "metadata": {},
   "outputs": [
    {
     "data": {
      "text/plain": [
       "sys.float_info(max=1.7976931348623157e+308, max_exp=1024, max_10_exp=308, min=2.2250738585072014e-308, min_exp=-1021, min_10_exp=-307, dig=15, mant_dig=53, epsilon=2.220446049250313e-16, radix=2, rounds=1)"
      ]
     },
     "execution_count": 19,
     "metadata": {},
     "output_type": "execute_result"
    }
   ],
   "source": [
    "sys.float_info"
   ]
  },
  {
   "cell_type": "code",
   "execution_count": 21,
   "id": "84c5f1b2",
   "metadata": {},
   "outputs": [
    {
     "data": {
      "text/plain": [
       "float"
      ]
     },
     "execution_count": 21,
     "metadata": {},
     "output_type": "execute_result"
    }
   ],
   "source": [
    "type (float(2))"
   ]
  },
  {
   "cell_type": "code",
   "execution_count": 26,
   "id": "af537f15",
   "metadata": {},
   "outputs": [
    {
     "data": {
      "text/plain": [
       "1"
      ]
     },
     "execution_count": 26,
     "metadata": {},
     "output_type": "execute_result"
    }
   ],
   "source": [
    "int (1.1)"
   ]
  },
  {
   "cell_type": "code",
   "execution_count": 154,
   "id": "df565979",
   "metadata": {},
   "outputs": [
    {
     "data": {
      "text/plain": [
       "1"
      ]
     },
     "execution_count": 154,
     "metadata": {},
     "output_type": "execute_result"
    }
   ],
   "source": [
    "int (1.2)"
   ]
  },
  {
   "cell_type": "code",
   "execution_count": 28,
   "id": "410616fc",
   "metadata": {},
   "outputs": [
    {
     "data": {
      "text/plain": [
       "1.2"
      ]
     },
     "execution_count": 28,
     "metadata": {},
     "output_type": "execute_result"
    }
   ],
   "source": [
    "float('1.2')"
   ]
  },
  {
   "cell_type": "code",
   "execution_count": 29,
   "id": "48bfb149",
   "metadata": {},
   "outputs": [
    {
     "data": {
      "text/plain": [
       "'1'"
      ]
     },
     "execution_count": 29,
     "metadata": {},
     "output_type": "execute_result"
    }
   ],
   "source": [
    "str(1)"
   ]
  },
  {
   "cell_type": "code",
   "execution_count": 30,
   "id": "e706d338",
   "metadata": {},
   "outputs": [
    {
     "data": {
      "text/plain": [
       "'1.2'"
      ]
     },
     "execution_count": 30,
     "metadata": {},
     "output_type": "execute_result"
    }
   ],
   "source": [
    "str(1.2)"
   ]
  },
  {
   "cell_type": "code",
   "execution_count": 31,
   "id": "4a79d6e8",
   "metadata": {},
   "outputs": [
    {
     "data": {
      "text/plain": [
       "1.0"
      ]
     },
     "execution_count": 31,
     "metadata": {},
     "output_type": "execute_result"
    }
   ],
   "source": [
    "float(1)"
   ]
  },
  {
   "cell_type": "code",
   "execution_count": 33,
   "id": "e917cff4",
   "metadata": {},
   "outputs": [
    {
     "data": {
      "text/plain": [
       "1"
      ]
     },
     "execution_count": 33,
     "metadata": {},
     "output_type": "execute_result"
    }
   ],
   "source": [
    "int(1.53)"
   ]
  },
  {
   "cell_type": "raw",
   "id": "b5cc7bf8",
   "metadata": {},
   "source": [
    "str(1.53)"
   ]
  },
  {
   "cell_type": "code",
   "execution_count": 35,
   "id": "01c11b97",
   "metadata": {},
   "outputs": [
    {
     "data": {
      "text/plain": [
       "bool"
      ]
     },
     "execution_count": 35,
     "metadata": {},
     "output_type": "execute_result"
    }
   ],
   "source": [
    "type(True)\n",
    "type(False)"
   ]
  },
  {
   "cell_type": "code",
   "execution_count": 38,
   "id": "1679e479",
   "metadata": {},
   "outputs": [
    {
     "data": {
      "text/plain": [
       "1"
      ]
     },
     "execution_count": 38,
     "metadata": {},
     "output_type": "execute_result"
    }
   ],
   "source": [
    "int(True)\n"
   ]
  },
  {
   "cell_type": "code",
   "execution_count": 39,
   "id": "452d1083",
   "metadata": {},
   "outputs": [
    {
     "data": {
      "text/plain": [
       "0"
      ]
     },
     "execution_count": 39,
     "metadata": {},
     "output_type": "execute_result"
    }
   ],
   "source": [
    "int(False)"
   ]
  },
  {
   "cell_type": "code",
   "execution_count": 40,
   "id": "434b7cd8",
   "metadata": {},
   "outputs": [
    {
     "data": {
      "text/plain": [
       "True"
      ]
     },
     "execution_count": 40,
     "metadata": {},
     "output_type": "execute_result"
    }
   ],
   "source": [
    "bool(1)"
   ]
  },
  {
   "cell_type": "code",
   "execution_count": 41,
   "id": "7d81b18d",
   "metadata": {},
   "outputs": [
    {
     "data": {
      "text/plain": [
       "False"
      ]
     },
     "execution_count": 41,
     "metadata": {},
     "output_type": "execute_result"
    }
   ],
   "source": [
    "bool(0)"
   ]
  },
  {
   "cell_type": "code",
   "execution_count": 42,
   "id": "8f6326db",
   "metadata": {},
   "outputs": [
    {
     "data": {
      "text/plain": [
       "float"
      ]
     },
     "execution_count": 42,
     "metadata": {},
     "output_type": "execute_result"
    }
   ],
   "source": [
    "type(6/2)"
   ]
  },
  {
   "cell_type": "code",
   "execution_count": 43,
   "id": "3278ad87",
   "metadata": {},
   "outputs": [
    {
     "data": {
      "text/plain": [
       "int"
      ]
     },
     "execution_count": 43,
     "metadata": {},
     "output_type": "execute_result"
    }
   ],
   "source": [
    "type(6//2)"
   ]
  },
  {
   "cell_type": "code",
   "execution_count": 44,
   "id": "0408c706",
   "metadata": {},
   "outputs": [
    {
     "data": {
      "text/plain": [
       "2.6666666666666665"
      ]
     },
     "execution_count": 44,
     "metadata": {},
     "output_type": "execute_result"
    }
   ],
   "source": [
    "160/60"
   ]
  },
  {
   "cell_type": "code",
   "execution_count": 45,
   "id": "06ae3cfe",
   "metadata": {},
   "outputs": [
    {
     "data": {
      "text/plain": [
       "2"
      ]
     },
     "execution_count": 45,
     "metadata": {},
     "output_type": "execute_result"
    }
   ],
   "source": [
    "160//60"
   ]
  },
  {
   "cell_type": "code",
   "execution_count": 49,
   "id": "39ebee61",
   "metadata": {},
   "outputs": [
    {
     "data": {
      "text/plain": [
       "150"
      ]
     },
     "execution_count": 49,
     "metadata": {},
     "output_type": "execute_result"
    }
   ],
   "source": [
    "\n",
    "30+2*60"
   ]
  },
  {
   "cell_type": "code",
   "execution_count": 50,
   "id": "0f35068a",
   "metadata": {},
   "outputs": [
    {
     "data": {
      "text/plain": [
       "1920"
      ]
     },
     "execution_count": 50,
     "metadata": {},
     "output_type": "execute_result"
    }
   ],
   "source": [
    "(30+2)*60"
   ]
  },
  {
   "cell_type": "code",
   "execution_count": 56,
   "id": "5d69fde8",
   "metadata": {},
   "outputs": [
    {
     "data": {
      "text/plain": [
       "120"
      ]
     },
     "execution_count": 56,
     "metadata": {},
     "output_type": "execute_result"
    }
   ],
   "source": [
    "x=60+30+30\n",
    "x"
   ]
  },
  {
   "cell_type": "code",
   "execution_count": 57,
   "id": "9606aa57",
   "metadata": {},
   "outputs": [
    {
     "data": {
      "text/plain": [
       "2.0"
      ]
     },
     "execution_count": 57,
     "metadata": {},
     "output_type": "execute_result"
    }
   ],
   "source": [
    "y=x/60\n",
    "y"
   ]
  },
  {
   "cell_type": "code",
   "execution_count": 58,
   "id": "2a910b30",
   "metadata": {},
   "outputs": [
    {
     "data": {
      "text/plain": [
       "6.0"
      ]
     },
     "execution_count": 58,
     "metadata": {},
     "output_type": "execute_result"
    }
   ],
   "source": [
    "x=x/20\n",
    "x"
   ]
  },
  {
   "cell_type": "code",
   "execution_count": 60,
   "id": "14e0afff",
   "metadata": {},
   "outputs": [
    {
     "data": {
      "text/plain": [
       "120"
      ]
     },
     "execution_count": 60,
     "metadata": {},
     "output_type": "execute_result"
    }
   ],
   "source": [
    "total_min = 40+40+40\n",
    "total_min"
   ]
  },
  {
   "cell_type": "code",
   "execution_count": 69,
   "id": "d98e8f91",
   "metadata": {},
   "outputs": [],
   "source": [
    "total_hour = total_min/60"
   ]
  },
  {
   "cell_type": "code",
   "execution_count": 66,
   "id": "3925194f",
   "metadata": {},
   "outputs": [],
   "source": [
    "total_hour = (40+40+40)/60"
   ]
  },
  {
   "cell_type": "code",
   "execution_count": 70,
   "id": "be9e3b63",
   "metadata": {},
   "outputs": [],
   "source": [
    "#strings hands on lab\n"
   ]
  },
  {
   "cell_type": "code",
   "execution_count": 74,
   "id": "e9f46367",
   "metadata": {},
   "outputs": [
    {
     "data": {
      "text/plain": [
       "'PASSTORAE'"
      ]
     },
     "execution_count": 74,
     "metadata": {},
     "output_type": "execute_result"
    }
   ],
   "source": [
    "name=('PASSTORAE')\n",
    "name"
   ]
  },
  {
   "cell_type": "code",
   "execution_count": 77,
   "id": "23ed1364",
   "metadata": {},
   "outputs": [
    {
     "data": {
      "text/plain": [
       "'PASS'"
      ]
     },
     "execution_count": 77,
     "metadata": {},
     "output_type": "execute_result"
    }
   ],
   "source": [
    "name[0:4]"
   ]
  },
  {
   "cell_type": "code",
   "execution_count": 78,
   "id": "f4aeffbd",
   "metadata": {},
   "outputs": [
    {
     "data": {
      "text/plain": [
       "'ST'"
      ]
     },
     "execution_count": 78,
     "metadata": {},
     "output_type": "execute_result"
    }
   ],
   "source": [
    "name[3:5]"
   ]
  },
  {
   "cell_type": "code",
   "execution_count": 82,
   "id": "2c18f1cb",
   "metadata": {},
   "outputs": [
    {
     "data": {
      "text/plain": [
       "'STOR'"
      ]
     },
     "execution_count": 82,
     "metadata": {},
     "output_type": "execute_result"
    }
   ],
   "source": [
    "name[3:7]"
   ]
  },
  {
   "cell_type": "code",
   "execution_count": 90,
   "id": "c9518423",
   "metadata": {},
   "outputs": [
    {
     "data": {
      "text/plain": [
       "'P'"
      ]
     },
     "execution_count": 90,
     "metadata": {},
     "output_type": "execute_result"
    }
   ],
   "source": [
    "name[0:3:6]"
   ]
  },
  {
   "cell_type": "code",
   "execution_count": 105,
   "id": "9db1a6d6",
   "metadata": {},
   "outputs": [
    {
     "data": {
      "text/plain": [
       "'PASSTORAEis the kpeteru guy is the kpeteru guyis the kpeteru guyis the kpeteru guyis the kpeteru guyis the kpeteru guy\\t is the kpeteru guy\\t is the kpeteru guy'"
      ]
     },
     "execution_count": 105,
     "metadata": {},
     "output_type": "execute_result"
    }
   ],
   "source": [
    "name= name + ' is the kpeteru guy'\n",
    "name"
   ]
  },
  {
   "cell_type": "code",
   "execution_count": 100,
   "id": "fbb942ec",
   "metadata": {},
   "outputs": [
    {
     "name": "stdout",
     "output_type": "stream",
     "text": [
      "PASSTORAE is a fresh guy \n",
      " and the best Engr \n",
      " also kpeteru guy\n"
     ]
    }
   ],
   "source": [
    "print ('PASSTORAE is a fresh guy \\n and the best Engr \\n also kpeteru guy')"
   ]
  },
  {
   "cell_type": "code",
   "execution_count": 99,
   "id": "d40a9948",
   "metadata": {},
   "outputs": [
    {
     "name": "stdout",
     "output_type": "stream",
     "text": [
      "passtorae is a fresh guy \t and the best Engr\n"
     ]
    }
   ],
   "source": [
    "print ('passtorae is a fresh guy \\t and the best Engr')"
   ]
  },
  {
   "cell_type": "code",
   "execution_count": 102,
   "id": "61650156",
   "metadata": {},
   "outputs": [
    {
     "name": "stdout",
     "output_type": "stream",
     "text": [
      "kpeteru is a name given \\ by starboy \n",
      " adopted by etteadiaha\n"
     ]
    }
   ],
   "source": [
    "print ('kpeteru is a name given \\\\ by starboy \\n adopted by etteadiaha')"
   ]
  },
  {
   "cell_type": "code",
   "execution_count": 103,
   "id": "65cc4caa",
   "metadata": {},
   "outputs": [
    {
     "name": "stdout",
     "output_type": "stream",
     "text": [
      "etini is a bolaji\\first class guy\n"
     ]
    }
   ],
   "source": [
    "print(r'etini is a bolaji\\first class guy')"
   ]
  },
  {
   "cell_type": "code",
   "execution_count": 107,
   "id": "f7ddb9fc",
   "metadata": {},
   "outputs": [
    {
     "name": "stdout",
     "output_type": "stream",
     "text": [
      "before upper: bobimoh is a flivolities guy\n",
      "after upper: BOBIMOH IS A FLIVOLITIES GUY\n"
     ]
    }
   ],
   "source": [
    "a = 'bobimoh is a flivolities guy'\n",
    "print (\"before upper:\",a)\n",
    "b = a.upper()\n",
    "print (\"after upper:\",b)"
   ]
  },
  {
   "cell_type": "code",
   "execution_count": 114,
   "id": "dcf2cd92",
   "metadata": {},
   "outputs": [
    {
     "name": "stdout",
     "output_type": "stream",
     "text": [
      "before upper: kpeteru\n",
      "after upper: KPETERU\n"
     ]
    }
   ],
   "source": [
    "c = 'kpeteru'\n",
    "print (\"before upper:\",c)\n",
    "d = c.upper()\n",
    "print (\"after upper:\",d)"
   ]
  },
  {
   "cell_type": "code",
   "execution_count": 116,
   "id": "7ea69704",
   "metadata": {},
   "outputs": [
    {
     "data": {
      "text/plain": [
       "'chief ptore \\n my nigga'"
      ]
     },
     "execution_count": 116,
     "metadata": {},
     "output_type": "execute_result"
    }
   ],
   "source": [
    "a = 'obong ptore \\n my nigga'\n",
    "b = a.replace ('obong','chief')\n",
    "b"
   ]
  },
  {
   "cell_type": "code",
   "execution_count": 120,
   "id": "8e3f7d99",
   "metadata": {},
   "outputs": [
    {
     "data": {
      "text/plain": [
       "5"
      ]
     },
     "execution_count": 120,
     "metadata": {},
     "output_type": "execute_result"
    }
   ],
   "source": [
    "name = 'flivolities'\n",
    "name.find('lit')"
   ]
  },
  {
   "cell_type": "code",
   "execution_count": 121,
   "id": "1f0a177f",
   "metadata": {},
   "outputs": [
    {
     "data": {
      "text/plain": [
       "7"
      ]
     },
     "execution_count": 121,
     "metadata": {},
     "output_type": "execute_result"
    }
   ],
   "source": [
    "name.find('ties')"
   ]
  },
  {
   "cell_type": "code",
   "execution_count": 123,
   "id": "6ff1dbfc",
   "metadata": {},
   "outputs": [
    {
     "data": {
      "text/plain": [
       "'4'"
      ]
     },
     "execution_count": 123,
     "metadata": {},
     "output_type": "execute_result"
    }
   ],
   "source": [
    "t = \"4\"\n",
    "t"
   ]
  },
  {
   "cell_type": "code",
   "execution_count": 124,
   "id": "223491f4",
   "metadata": {},
   "outputs": [
    {
     "data": {
      "text/plain": [
       "'2'"
      ]
     },
     "execution_count": 124,
     "metadata": {},
     "output_type": "execute_result"
    }
   ],
   "source": [
    "p = \"2\"\n",
    "p"
   ]
  },
  {
   "cell_type": "code",
   "execution_count": 127,
   "id": "006ebc5c",
   "metadata": {},
   "outputs": [
    {
     "data": {
      "text/plain": [
       "'42'"
      ]
     },
     "execution_count": 127,
     "metadata": {},
     "output_type": "execute_result"
    }
   ],
   "source": [
    "f = t+p\n",
    "f"
   ]
  },
  {
   "cell_type": "code",
   "execution_count": 132,
   "id": "1cf91c26",
   "metadata": {},
   "outputs": [],
   "source": [
    " x = 'ABCDEFG'"
   ]
  },
  {
   "cell_type": "code",
   "execution_count": 134,
   "id": "91fa0502",
   "metadata": {},
   "outputs": [
    {
     "name": "stdout",
     "output_type": "stream",
     "text": [
      "ABCD\n"
     ]
    }
   ],
   "source": [
    "print (x[0:4])"
   ]
  },
  {
   "cell_type": "code",
   "execution_count": 135,
   "id": "f58ddef3",
   "metadata": {},
   "outputs": [
    {
     "name": "stdout",
     "output_type": "stream",
     "text": [
      "ACEG\n"
     ]
    }
   ],
   "source": [
    "print (x[::2])"
   ]
  },
  {
   "cell_type": "code",
   "execution_count": 136,
   "id": "b362f3b3",
   "metadata": {},
   "outputs": [
    {
     "name": "stdout",
     "output_type": "stream",
     "text": [
      "before upper: you are wrong\n",
      "after upper: YOU ARE WRONG\n"
     ]
    }
   ],
   "source": [
    "f = \"you are wrong\"\n",
    "print (\"before upper:\",f)\n",
    "g = f.upper()\n",
    "print (\"after upper:\",g)"
   ]
  },
  {
   "cell_type": "code",
   "execution_count": 138,
   "id": "b6a8a604",
   "metadata": {},
   "outputs": [
    {
     "name": "stdout",
     "output_type": "stream",
     "text": [
      "\\\\\n"
     ]
    }
   ],
   "source": [
    "print (\"\\\\\\\\\")\n"
   ]
  },
  {
   "cell_type": "code",
   "execution_count": 140,
   "id": "abd2d8cd",
   "metadata": {},
   "outputs": [
    {
     "name": "stdout",
     "output_type": "stream",
     "text": [
      "\\ \n"
     ]
    }
   ],
   "source": [
    "print (r\"\\ \")"
   ]
  },
  {
   "cell_type": "code",
   "execution_count": 145,
   "id": "895a9f4b",
   "metadata": {},
   "outputs": [],
   "source": [
    "g = \"Mary had a little lamb Little lamb, little lamb Mary had a little lamb \\\n",
    "Its fleece was white as snow And everywhere that Mary went Mary went, Mary went \\\n",
    "Everywhere that Mary went The lamb was sure to go\""
   ]
  },
  {
   "cell_type": "code",
   "execution_count": 147,
   "id": "7184845a",
   "metadata": {},
   "outputs": [
    {
     "data": {
      "text/plain": [
       "95"
      ]
     },
     "execution_count": 147,
     "metadata": {},
     "output_type": "execute_result"
    }
   ],
   "source": [
    "g.find('snow')"
   ]
  },
  {
   "cell_type": "code",
   "execution_count": 153,
   "id": "2e4518fb",
   "metadata": {},
   "outputs": [
    {
     "data": {
      "text/plain": [
       "'Bob had a little lamb Little lamb, little lamb Bob had a little lamb Its fleece was white as snow And everywhere that Bob went Bob went, Bob went Everywhere that Bob went The lamb was sure to go'"
      ]
     },
     "execution_count": 153,
     "metadata": {},
     "output_type": "execute_result"
    }
   ],
   "source": [
    "g.replace (\"Mary\",\"Bob\")"
   ]
  },
  {
   "cell_type": "code",
   "execution_count": null,
   "id": "dd3a0aaa",
   "metadata": {},
   "outputs": [],
   "source": []
  }
 ],
 "metadata": {
  "kernelspec": {
   "display_name": "Python 3 (ipykernel)",
   "language": "python",
   "name": "python3"
  },
  "language_info": {
   "codemirror_mode": {
    "name": "ipython",
    "version": 3
   },
   "file_extension": ".py",
   "mimetype": "text/x-python",
   "name": "python",
   "nbconvert_exporter": "python",
   "pygments_lexer": "ipython3",
   "version": "3.9.7"
  }
 },
 "nbformat": 4,
 "nbformat_minor": 5
}
