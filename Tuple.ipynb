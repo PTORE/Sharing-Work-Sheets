{
 "cells": [
  {
   "cell_type": "code",
   "execution_count": 3,
   "id": "5cc0051b",
   "metadata": {},
   "outputs": [
    {
     "data": {
      "text/plain": [
       "('disco', 10, 1.2)"
      ]
     },
     "execution_count": 3,
     "metadata": {},
     "output_type": "execute_result"
    }
   ],
   "source": [
    "\n",
    "tuple1 = (\"disco\",10,1.2 )\n",
    "tuple1"
   ]
  },
  {
   "cell_type": "code",
   "execution_count": 4,
   "id": "d0b6e07c",
   "metadata": {},
   "outputs": [
    {
     "name": "stdout",
     "output_type": "stream",
     "text": [
      "disco\n",
      "10\n",
      "1.2\n"
     ]
    }
   ],
   "source": [
    "\n",
    "print(tuple1[0])\n",
    "print(tuple1[1])\n",
    "print(tuple1[2])"
   ]
  },
  {
   "cell_type": "code",
   "execution_count": 5,
   "id": "287c9835",
   "metadata": {},
   "outputs": [
    {
     "name": "stdout",
     "output_type": "stream",
     "text": [
      "<class 'str'>\n",
      "<class 'int'>\n",
      "<class 'float'>\n"
     ]
    }
   ],
   "source": [
    "print(type(tuple1[0]))\n",
    "print(type(tuple1[1]))\n",
    "print(type(tuple1[2]))"
   ]
  },
  {
   "cell_type": "code",
   "execution_count": 6,
   "id": "f2cdfeff",
   "metadata": {},
   "outputs": [
    {
     "data": {
      "text/plain": [
       "1.2"
      ]
     },
     "execution_count": 6,
     "metadata": {},
     "output_type": "execute_result"
    }
   ],
   "source": [
    "tuple1[-1]"
   ]
  },
  {
   "cell_type": "code",
   "execution_count": 7,
   "id": "6f6b24f4",
   "metadata": {},
   "outputs": [
    {
     "data": {
      "text/plain": [
       "10"
      ]
     },
     "execution_count": 7,
     "metadata": {},
     "output_type": "execute_result"
    }
   ],
   "source": [
    "tuple1[-2]"
   ]
  },
  {
   "cell_type": "code",
   "execution_count": 8,
   "id": "8aad8553",
   "metadata": {},
   "outputs": [
    {
     "data": {
      "text/plain": [
       "'disco'"
      ]
     },
     "execution_count": 8,
     "metadata": {},
     "output_type": "execute_result"
    }
   ],
   "source": [
    "tuple1[-3]"
   ]
  },
  {
   "cell_type": "code",
   "execution_count": 9,
   "id": "d987d189",
   "metadata": {},
   "outputs": [
    {
     "data": {
      "text/plain": [
       "('disco', 10, 1.2, 'hard rock', 10)"
      ]
     },
     "execution_count": 9,
     "metadata": {},
     "output_type": "execute_result"
    }
   ],
   "source": [
    "\n",
    "tuple2 = tuple1 + (\"hard rock\", 10)\n",
    "tuple2"
   ]
  },
  {
   "cell_type": "code",
   "execution_count": 12,
   "id": "0fafcc0f",
   "metadata": {},
   "outputs": [
    {
     "data": {
      "text/plain": [
       "('disco', 10, 1.2)"
      ]
     },
     "execution_count": 12,
     "metadata": {},
     "output_type": "execute_result"
    }
   ],
   "source": [
    "tuple2 [0:3]"
   ]
  },
  {
   "cell_type": "code",
   "execution_count": 14,
   "id": "8b0bbb2c",
   "metadata": {},
   "outputs": [
    {
     "data": {
      "text/plain": [
       "(1.2, 'hard rock')"
      ]
     },
     "execution_count": 14,
     "metadata": {},
     "output_type": "execute_result"
    }
   ],
   "source": [
    "tuple2 [-3:-1]"
   ]
  },
  {
   "cell_type": "code",
   "execution_count": 15,
   "id": "2ba9a457",
   "metadata": {},
   "outputs": [
    {
     "data": {
      "text/plain": [
       "5"
      ]
     },
     "execution_count": 15,
     "metadata": {},
     "output_type": "execute_result"
    }
   ],
   "source": [
    "len(tuple2)"
   ]
  },
  {
   "cell_type": "code",
   "execution_count": 16,
   "id": "88f94e43",
   "metadata": {},
   "outputs": [],
   "source": [
    "Ratings = (0, 9, 6, 5, 10, 8, 9, 6, 2)"
   ]
  },
  {
   "cell_type": "code",
   "execution_count": 17,
   "id": "e6e116df",
   "metadata": {},
   "outputs": [
    {
     "data": {
      "text/plain": [
       "[0, 2, 5, 6, 6, 8, 9, 9, 10]"
      ]
     },
     "execution_count": 17,
     "metadata": {},
     "output_type": "execute_result"
    }
   ],
   "source": [
    "RatingsSorted = sorted(Ratings)\n",
    "RatingsSorted"
   ]
  },
  {
   "cell_type": "code",
   "execution_count": 19,
   "id": "e564fb66",
   "metadata": {},
   "outputs": [
    {
     "data": {
      "text/plain": [
       "(1, 2, ('pop', 'rock'), (3, 4), ('disco', (1, 2)))"
      ]
     },
     "execution_count": 19,
     "metadata": {},
     "output_type": "execute_result"
    }
   ],
   "source": [
    "NestedT =(1, 2, (\"pop\", \"rock\") ,(3,4),(\"disco\",(1,2)))\n",
    "NestedT"
   ]
  },
  {
   "cell_type": "code",
   "execution_count": 20,
   "id": "40352fef",
   "metadata": {},
   "outputs": [
    {
     "name": "stdout",
     "output_type": "stream",
     "text": [
      "Element 0 of Tuple:  1\n",
      "Element 1 of Tuple:  2\n",
      "Element 2 of Tuple:  ('pop', 'rock')\n",
      "Element 3 of Tuple:  (3, 4)\n",
      "Element 4 of Tuple:  ('disco', (1, 2))\n"
     ]
    }
   ],
   "source": [
    "print(\"Element 0 of Tuple: \", NestedT[0])\n",
    "print(\"Element 1 of Tuple: \", NestedT[1])\n",
    "print(\"Element 2 of Tuple: \", NestedT[2])\n",
    "print(\"Element 3 of Tuple: \", NestedT[3])\n",
    "print(\"Element 4 of Tuple: \", NestedT[4])"
   ]
  },
  {
   "cell_type": "code",
   "execution_count": 23,
   "id": "0ff41f54",
   "metadata": {},
   "outputs": [
    {
     "name": "stdout",
     "output_type": "stream",
     "text": [
      "Element 2, 0 of Tuple:  pop\n",
      "Element 2, 1 of Tuple:  rock\n",
      "Element 3, 0 of Tuple:  3\n",
      "Element 3, 1 of Tuple:  4\n",
      "Element 4, 0 of Tuple:  disco\n",
      "Element 4, 1 of Tuple:  (1, 2)\n",
      "Element 4, 1 of Tuple, 0 of Tuple: 1\n",
      "Element 4, 1 of Tuple, 1 of Tuple: 2\n"
     ]
    }
   ],
   "source": [
    "\n",
    "print(\"Element 2, 0 of Tuple: \",   NestedT[2][0])\n",
    "print(\"Element 2, 1 of Tuple: \",   NestedT[2][1])\n",
    "print(\"Element 3, 0 of Tuple: \",   NestedT[3][0])\n",
    "print(\"Element 3, 1 of Tuple: \",   NestedT[3][1])\n",
    "print(\"Element 4, 0 of Tuple: \",   NestedT[4][0])\n",
    "print(\"Element 4, 1 of Tuple: \",   NestedT[4][1])\n",
    "print(\"Element 4, 1 of Tuple, 0 of Tuple:\",  NestedT[4][1][0])\n",
    "print(\"Element 4, 1 of Tuple, 1 of Tuple:\",  NestedT[4][1][1])"
   ]
  },
  {
   "cell_type": "code",
   "execution_count": 24,
   "id": "f7c4a6f1",
   "metadata": {},
   "outputs": [
    {
     "data": {
      "text/plain": [
       "'r'"
      ]
     },
     "execution_count": 24,
     "metadata": {},
     "output_type": "execute_result"
    }
   ],
   "source": [
    "NestedT[2][1][0]"
   ]
  },
  {
   "cell_type": "code",
   "execution_count": 25,
   "id": "f19e5199",
   "metadata": {},
   "outputs": [
    {
     "data": {
      "text/plain": [
       "'o'"
      ]
     },
     "execution_count": 25,
     "metadata": {},
     "output_type": "execute_result"
    }
   ],
   "source": [
    "NestedT[2][1][1]"
   ]
  },
  {
   "cell_type": "code",
   "execution_count": 26,
   "id": "0e53f5ca",
   "metadata": {},
   "outputs": [
    {
     "data": {
      "text/plain": [
       "1"
      ]
     },
     "execution_count": 26,
     "metadata": {},
     "output_type": "execute_result"
    }
   ],
   "source": [
    "NestedT[4][1][0]"
   ]
  },
  {
   "cell_type": "code",
   "execution_count": 27,
   "id": "181d0abd",
   "metadata": {},
   "outputs": [
    {
     "data": {
      "text/plain": [
       "2"
      ]
     },
     "execution_count": 27,
     "metadata": {},
     "output_type": "execute_result"
    }
   ],
   "source": [
    "NestedT[4][1][1]"
   ]
  },
  {
   "cell_type": "code",
   "execution_count": 28,
   "id": "d97d478a",
   "metadata": {},
   "outputs": [
    {
     "data": {
      "text/plain": [
       "('pop',\n",
       " 'rock',\n",
       " 'soul',\n",
       " 'hard rock',\n",
       " 'soft rock',\n",
       " 'R&B',\n",
       " 'progressive rock',\n",
       " 'disco')"
      ]
     },
     "execution_count": 28,
     "metadata": {},
     "output_type": "execute_result"
    }
   ],
   "source": [
    "genres_tuple = (\"pop\", \"rock\", \"soul\", \"hard rock\", \"soft rock\", \\\n",
    "                \"R&B\", \"progressive rock\", \"disco\") \n",
    "genres_tuple"
   ]
  },
  {
   "cell_type": "code",
   "execution_count": 30,
   "id": "73dab59a",
   "metadata": {},
   "outputs": [
    {
     "data": {
      "text/plain": [
       "8"
      ]
     },
     "execution_count": 30,
     "metadata": {},
     "output_type": "execute_result"
    }
   ],
   "source": [
    "len(genres_tuple)"
   ]
  },
  {
   "cell_type": "code",
   "execution_count": 31,
   "id": "0bc72b0e",
   "metadata": {},
   "outputs": [
    {
     "data": {
      "text/plain": [
       "'hard rock'"
      ]
     },
     "execution_count": 31,
     "metadata": {},
     "output_type": "execute_result"
    }
   ],
   "source": [
    "genres_tuple[3]"
   ]
  },
  {
   "cell_type": "code",
   "execution_count": 33,
   "id": "4c3e4787",
   "metadata": {},
   "outputs": [
    {
     "data": {
      "text/plain": [
       "('hard rock', 'soft rock', 'R&B')"
      ]
     },
     "execution_count": 33,
     "metadata": {},
     "output_type": "execute_result"
    }
   ],
   "source": [
    "genres_tuple[3:6]"
   ]
  },
  {
   "cell_type": "code",
   "execution_count": 36,
   "id": "42813a9e",
   "metadata": {},
   "outputs": [
    {
     "name": "stdout",
     "output_type": "stream",
     "text": [
      "element 0 of tuple: pop\n",
      "element 1 of tuple: rock\n"
     ]
    },
    {
     "data": {
      "text/plain": [
       "('pop', 'rock')"
      ]
     },
     "execution_count": 36,
     "metadata": {},
     "output_type": "execute_result"
    }
   ],
   "source": [
    "print('element 0 of tuple:', genres_tuple[0])\n",
    "print('element 1 of tuple:', genres_tuple[1])\n",
    "genres_tuple[0:2]"
   ]
  },
  {
   "cell_type": "code",
   "execution_count": 37,
   "id": "6bbe85c3",
   "metadata": {},
   "outputs": [
    {
     "data": {
      "text/plain": [
       "7"
      ]
     },
     "execution_count": 37,
     "metadata": {},
     "output_type": "execute_result"
    }
   ],
   "source": [
    "genres_tuple.index(\"disco\")"
   ]
  },
  {
   "cell_type": "code",
   "execution_count": 38,
   "id": "7aa2f770",
   "metadata": {},
   "outputs": [
    {
     "data": {
      "text/plain": [
       "[-5, -3, 1]"
      ]
     },
     "execution_count": 38,
     "metadata": {},
     "output_type": "execute_result"
    }
   ],
   "source": [
    "C_tuple = (-5, 1, -3)\n",
    "C_list = sorted(C_tuple)\n",
    "C_list"
   ]
  },
  {
   "cell_type": "code",
   "execution_count": 44,
   "id": "3a7ffae4",
   "metadata": {},
   "outputs": [
    {
     "data": {
      "text/plain": [
       "('1729',\n",
       " 'I',\n",
       " 'beleive',\n",
       " 'franka',\n",
       " 'is',\n",
       " 'the',\n",
       " 'VP',\n",
       " 'of',\n",
       " 'IKA',\n",
       " 'students',\n",
       " 'union',\n",
       " 'in',\n",
       " 'UNIUYO',\n",
       " 'never',\n",
       " 'doubt')"
      ]
     },
     "execution_count": 44,
     "metadata": {},
     "output_type": "execute_result"
    }
   ],
   "source": [
    "My_thoughts = ('1729','I','beleive', 'franka', 'is', 'the', 'VP', 'of', 'IKA', 'students', 'union', 'in', 'UNIUYO', 'never', 'doubt')\n",
    "My_thoughts"
   ]
  },
  {
   "cell_type": "code",
   "execution_count": 46,
   "id": "57ccf8c1",
   "metadata": {},
   "outputs": [
    {
     "name": "stdout",
     "output_type": "stream",
     "text": [
      "Element 1 of Tuple:  I\n",
      "Element 2 of Tuple:  beleive\n",
      "Element 3 of Tuple:  franka\n",
      "Element 4 of Tuple:  is\n",
      "Element 5 of Tuple:  the\n",
      "Element 6 of Tuple:  VP\n",
      "Element 7 of Tuple:  of\n",
      "Element 8 of Tuple:  IKA\n",
      "Element 9 of Tuple:  students\n",
      "Element 10 of Tuple:  union\n",
      "Element 11 of Tuple:  in\n",
      "Element 12 of Tuple:  UNIUYO\n"
     ]
    }
   ],
   "source": [
    "print(\"Element 1 of Tuple: \", My_thoughts[1])\n",
    "print(\"Element 2 of Tuple: \", My_thoughts[2])\n",
    "print(\"Element 3 of Tuple: \", My_thoughts[3])\n",
    "print(\"Element 4 of Tuple: \", My_thoughts[4])\n",
    "print(\"Element 5 of Tuple: \", My_thoughts[5])\n",
    "print(\"Element 6 of Tuple: \", My_thoughts[6])\n",
    "print(\"Element 7 of Tuple: \", My_thoughts[7])\n",
    "print(\"Element 8 of Tuple: \", My_thoughts[8])\n",
    "print(\"Element 9 of Tuple: \", My_thoughts[9])\n",
    "print(\"Element 10 of Tuple: \", My_thoughts[10])\n",
    "print(\"Element 11 of Tuple: \", My_thoughts[11])\n",
    "print(\"Element 12 of Tuple: \", My_thoughts[12])"
   ]
  },
  {
   "cell_type": "code",
   "execution_count": null,
   "id": "67ac55b5",
   "metadata": {},
   "outputs": [],
   "source": []
  }
 ],
 "metadata": {
  "kernelspec": {
   "display_name": "Python 3 (ipykernel)",
   "language": "python",
   "name": "python3"
  },
  "language_info": {
   "codemirror_mode": {
    "name": "ipython",
    "version": 3
   },
   "file_extension": ".py",
   "mimetype": "text/x-python",
   "name": "python",
   "nbconvert_exporter": "python",
   "pygments_lexer": "ipython3",
   "version": "3.9.7"
  }
 },
 "nbformat": 4,
 "nbformat_minor": 5
}
